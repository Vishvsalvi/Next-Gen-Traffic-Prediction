{
 "cells": [
  {
   "cell_type": "code",
   "execution_count": 1,
   "id": "afd30ab6-c117-4b25-a002-d3f78528649d",
   "metadata": {},
   "outputs": [],
   "source": [
    "import pandas as pd"
   ]
  },
  {
   "cell_type": "code",
   "execution_count": 2,
   "id": "e6d94c0b-c18f-4ab4-8226-0d5d5a511ea3",
   "metadata": {},
   "outputs": [],
   "source": [
    "df = pd.read_csv('Data/Road_List.csv')"
   ]
  },
  {
   "cell_type": "code",
   "execution_count": 3,
   "id": "e885995c-f847-4ed1-b779-78998f34cad4",
   "metadata": {},
   "outputs": [],
   "source": [
    "df_sorted = df.sort_values(by='Name of Road')"
   ]
  },
  {
   "cell_type": "code",
   "execution_count": 4,
   "id": "6c825e3e-6240-4d9c-8a8a-ebb79cf68b45",
   "metadata": {},
   "outputs": [],
   "source": [
    "df_sorted.to_csv('Data/Road_List.csv', index=False)"
   ]
  },
  {
   "cell_type": "code",
   "execution_count": null,
   "id": "8434b748-cea7-4af4-8651-2ac7046b7ae2",
   "metadata": {},
   "outputs": [],
   "source": []
  }
 ],
 "metadata": {
  "kernelspec": {
   "display_name": "Python 3 (ipykernel)",
   "language": "python",
   "name": "python3"
  },
  "language_info": {
   "codemirror_mode": {
    "name": "ipython",
    "version": 3
   },
   "file_extension": ".py",
   "mimetype": "text/x-python",
   "name": "python",
   "nbconvert_exporter": "python",
   "pygments_lexer": "ipython3",
   "version": "3.11.0"
  }
 },
 "nbformat": 4,
 "nbformat_minor": 5
}
