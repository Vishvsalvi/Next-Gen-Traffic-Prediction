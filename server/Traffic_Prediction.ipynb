{
 "cells": [
  {
   "cell_type": "code",
   "execution_count": 1,
   "id": "a2fe2230-572a-48d2-b5d4-56ccf4feebe2",
   "metadata": {},
   "outputs": [],
   "source": [
    "import pandas as pd\n",
    "import numpy as np\n",
    "from sklearn.preprocessing import LabelEncoder, StandardScaler\n",
    "from sklearn.model_selection import train_test_split\n",
    "import tensorflow as tf\n",
    "from xgboost import XGBRegressor"
   ]
  },
  {
   "cell_type": "code",
   "execution_count": 2,
   "id": "1dc8e96c-fee2-4c3b-a200-cea79c0b692d",
   "metadata": {},
   "outputs": [],
   "source": [
    "df = pd.read_csv('Data/Traffic_Data.csv') "
   ]
  },
  {
   "cell_type": "code",
   "execution_count": 3,
   "id": "ad1915fe-4e7e-4ec2-845d-b5aea1a40dee",
   "metadata": {},
   "outputs": [
    {
     "name": "stdout",
     "output_type": "stream",
     "text": [
      "Dataset Shape: (105850, 13)\n",
      "\n",
      "First few rows:\n"
     ]
    },
    {
     "data": {
      "text/html": [
       "<div>\n",
       "<style scoped>\n",
       "    .dataframe tbody tr th:only-of-type {\n",
       "        vertical-align: middle;\n",
       "    }\n",
       "\n",
       "    .dataframe tbody tr th {\n",
       "        vertical-align: top;\n",
       "    }\n",
       "\n",
       "    .dataframe thead th {\n",
       "        text-align: right;\n",
       "    }\n",
       "</style>\n",
       "<table border=\"1\" class=\"dataframe\">\n",
       "  <thead>\n",
       "    <tr style=\"text-align: right;\">\n",
       "      <th></th>\n",
       "      <th>Date</th>\n",
       "      <th>Road/Intersection Name</th>\n",
       "      <th>Traffic Volume</th>\n",
       "      <th>Average Speed</th>\n",
       "      <th>Travel Time Index</th>\n",
       "      <th>Congestion Level</th>\n",
       "      <th>Road Capacity Utilization</th>\n",
       "      <th>Incident Reports</th>\n",
       "      <th>Environmental Impact</th>\n",
       "      <th>Public Transport Usage</th>\n",
       "      <th>Pedestrian and Cyclist Count</th>\n",
       "      <th>Weather Conditions</th>\n",
       "      <th>Roadwork and Construction Activity</th>\n",
       "    </tr>\n",
       "  </thead>\n",
       "  <tbody>\n",
       "    <tr>\n",
       "      <th>0</th>\n",
       "      <td>01-01-2022</td>\n",
       "      <td>NaN</td>\n",
       "      <td>0.669419</td>\n",
       "      <td>0.392949</td>\n",
       "      <td>NaN</td>\n",
       "      <td>0.261627</td>\n",
       "      <td>0.844939</td>\n",
       "      <td>0.6</td>\n",
       "      <td>0.520505</td>\n",
       "      <td>0.482751</td>\n",
       "      <td>0.601266</td>\n",
       "      <td>Mild</td>\n",
       "      <td>1.0</td>\n",
       "    </tr>\n",
       "    <tr>\n",
       "      <th>1</th>\n",
       "      <td>01-01-2022</td>\n",
       "      <td>CST Road</td>\n",
       "      <td>0.775431</td>\n",
       "      <td>0.000000</td>\n",
       "      <td>0.536212</td>\n",
       "      <td>0.615160</td>\n",
       "      <td>0.035331</td>\n",
       "      <td>0.8</td>\n",
       "      <td>0.137807</td>\n",
       "      <td>0.394751</td>\n",
       "      <td>0.588608</td>\n",
       "      <td>Mild</td>\n",
       "      <td>1.0</td>\n",
       "    </tr>\n",
       "    <tr>\n",
       "      <th>2</th>\n",
       "      <td>01-01-2022</td>\n",
       "      <td>Road no. 01, TPS V</td>\n",
       "      <td>0.632111</td>\n",
       "      <td>0.000000</td>\n",
       "      <td>0.969972</td>\n",
       "      <td>0.673203</td>\n",
       "      <td>0.975692</td>\n",
       "      <td>NaN</td>\n",
       "      <td>0.478489</td>\n",
       "      <td>0.071569</td>\n",
       "      <td>0.468354</td>\n",
       "      <td>Mild</td>\n",
       "      <td>0.0</td>\n",
       "    </tr>\n",
       "    <tr>\n",
       "      <th>3</th>\n",
       "      <td>01-01-2022</td>\n",
       "      <td>Vakola Pipeline Road</td>\n",
       "      <td>0.456201</td>\n",
       "      <td>0.598162</td>\n",
       "      <td>NaN</td>\n",
       "      <td>0.259642</td>\n",
       "      <td>0.345587</td>\n",
       "      <td>0.4</td>\n",
       "      <td>0.271353</td>\n",
       "      <td>NaN</td>\n",
       "      <td>0.392405</td>\n",
       "      <td>NaN</td>\n",
       "      <td>0.0</td>\n",
       "    </tr>\n",
       "    <tr>\n",
       "      <th>4</th>\n",
       "      <td>NaN</td>\n",
       "      <td>St Anthony Road</td>\n",
       "      <td>0.234796</td>\n",
       "      <td>0.000000</td>\n",
       "      <td>0.622437</td>\n",
       "      <td>NaN</td>\n",
       "      <td>0.663442</td>\n",
       "      <td>0.8</td>\n",
       "      <td>0.470199</td>\n",
       "      <td>0.003909</td>\n",
       "      <td>0.215190</td>\n",
       "      <td>Mild</td>\n",
       "      <td>0.0</td>\n",
       "    </tr>\n",
       "  </tbody>\n",
       "</table>\n",
       "</div>"
      ],
      "text/plain": [
       "         Date Road/Intersection Name  Traffic Volume  Average Speed  \\\n",
       "0  01-01-2022                    NaN        0.669419       0.392949   \n",
       "1  01-01-2022              CST Road         0.775431       0.000000   \n",
       "2  01-01-2022     Road no. 01, TPS V        0.632111       0.000000   \n",
       "3  01-01-2022   Vakola Pipeline Road        0.456201       0.598162   \n",
       "4         NaN        St Anthony Road        0.234796       0.000000   \n",
       "\n",
       "   Travel Time Index  Congestion Level  Road Capacity Utilization  \\\n",
       "0                NaN          0.261627                   0.844939   \n",
       "1           0.536212          0.615160                   0.035331   \n",
       "2           0.969972          0.673203                   0.975692   \n",
       "3                NaN          0.259642                   0.345587   \n",
       "4           0.622437               NaN                   0.663442   \n",
       "\n",
       "   Incident Reports  Environmental Impact  Public Transport Usage  \\\n",
       "0               0.6              0.520505                0.482751   \n",
       "1               0.8              0.137807                0.394751   \n",
       "2               NaN              0.478489                0.071569   \n",
       "3               0.4              0.271353                     NaN   \n",
       "4               0.8              0.470199                0.003909   \n",
       "\n",
       "   Pedestrian and Cyclist Count Weather Conditions  \\\n",
       "0                      0.601266               Mild   \n",
       "1                      0.588608               Mild   \n",
       "2                      0.468354               Mild   \n",
       "3                      0.392405                NaN   \n",
       "4                      0.215190               Mild   \n",
       "\n",
       "   Roadwork and Construction Activity  \n",
       "0                                 1.0  \n",
       "1                                 1.0  \n",
       "2                                 0.0  \n",
       "3                                 0.0  \n",
       "4                                 0.0  "
      ]
     },
     "metadata": {},
     "output_type": "display_data"
    }
   ],
   "source": [
    "print(\"Dataset Shape:\", df.shape)\n",
    "print(\"\\nFirst few rows:\")\n",
    "display(df.head())"
   ]
  },
  {
   "cell_type": "code",
   "execution_count": 4,
   "id": "0b73aec8-76e6-49cc-b5b1-48aa108b48a8",
   "metadata": {},
   "outputs": [
    {
     "name": "stdout",
     "output_type": "stream",
     "text": [
      "       Traffic Volume  Average Speed  Travel Time Index  Congestion Level  \\\n",
      "count    95837.000000   95819.000000       95705.000000      95801.000000   \n",
      "mean         0.526741       0.113058           0.486112          0.554224   \n",
      "std          0.196098       0.190125           0.208540          0.261997   \n",
      "min          0.000000       0.000000           0.000000          0.000000   \n",
      "25%          0.371986       0.000000           0.334179          0.337203   \n",
      "50%          0.526842       0.000000           0.486147          0.558979   \n",
      "75%          0.682344       0.176083           0.638526          0.778259   \n",
      "max          1.000000       1.000000           1.000000          1.000000   \n",
      "\n",
      "       Road Capacity Utilization  Incident Reports  Environmental Impact  \\\n",
      "count               95764.000000      95841.000000          95632.000000   \n",
      "mean                    0.499977          0.449989              0.291229   \n",
      "std                     0.289019          0.296218              0.150401   \n",
      "min                     0.000000          0.000000              0.000000   \n",
      "25%                     0.250015          0.200000              0.165292   \n",
      "50%                     0.500805          0.400000              0.290083   \n",
      "75%                     0.749476          0.800000              0.415402   \n",
      "max                     1.000000          1.000000              1.000000   \n",
      "\n",
      "       Public Transport Usage  Pedestrian and Cyclist Count  \\\n",
      "count            95850.000000                  96003.000000   \n",
      "mean                 0.499108                      0.498989   \n",
      "std                  0.290040                      0.213655   \n",
      "min                  0.000000                      0.000000   \n",
      "25%                  0.246426                      0.335443   \n",
      "50%                  0.499343                      0.500000   \n",
      "75%                  0.751471                      0.658228   \n",
      "max                  1.000000                      1.000000   \n",
      "\n",
      "       Roadwork and Construction Activity  \n",
      "count                        95735.000000  \n",
      "mean                             0.500099  \n",
      "std                              0.500003  \n",
      "min                              0.000000  \n",
      "25%                              0.000000  \n",
      "50%                              1.000000  \n",
      "75%                              1.000000  \n",
      "max                              1.000000  \n"
     ]
    }
   ],
   "source": [
    "print(df.describe())"
   ]
  },
  {
   "cell_type": "code",
   "execution_count": 5,
   "id": "491f770a-1a53-419a-8b7c-9c2feaa5f82e",
   "metadata": {},
   "outputs": [
    {
     "name": "stdout",
     "output_type": "stream",
     "text": [
      "\n",
      "Data Types:\n"
     ]
    },
    {
     "data": {
      "text/plain": [
       "Date                                   object\n",
       "Road/Intersection Name                 object\n",
       "Traffic Volume                        float64\n",
       "Average Speed                         float64\n",
       "Travel Time Index                     float64\n",
       "Congestion Level                      float64\n",
       "Road Capacity Utilization             float64\n",
       "Incident Reports                      float64\n",
       "Environmental Impact                  float64\n",
       "Public Transport Usage                float64\n",
       "Pedestrian and Cyclist Count          float64\n",
       "Weather Conditions                     object\n",
       "Roadwork and Construction Activity    float64\n",
       "dtype: object"
      ]
     },
     "metadata": {},
     "output_type": "display_data"
    },
    {
     "name": "stdout",
     "output_type": "stream",
     "text": [
      "\n",
      "Missing Values:\n"
     ]
    },
    {
     "data": {
      "text/plain": [
       "Date                                  10061\n",
       "Road/Intersection Name                10146\n",
       "Traffic Volume                        10013\n",
       "Average Speed                         10031\n",
       "Travel Time Index                     10145\n",
       "Congestion Level                      10049\n",
       "Road Capacity Utilization             10086\n",
       "Incident Reports                      10009\n",
       "Environmental Impact                  10218\n",
       "Public Transport Usage                10000\n",
       "Pedestrian and Cyclist Count           9847\n",
       "Weather Conditions                    10160\n",
       "Roadwork and Construction Activity    10115\n",
       "dtype: int64"
      ]
     },
     "metadata": {},
     "output_type": "display_data"
    }
   ],
   "source": [
    "print(\"\\nData Types:\")\n",
    "display(df.dtypes)\n",
    "print(\"\\nMissing Values:\")\n",
    "display(df.isnull().sum())"
   ]
  },
  {
   "cell_type": "markdown",
   "id": "a2cabde6-8483-4a73-a9aa-ce7d53887ab2",
   "metadata": {},
   "source": [
    "## Data Cleaning"
   ]
  },
  {
   "cell_type": "code",
   "execution_count": 6,
   "id": "1c1f17a3-e141-47bc-863c-60c003d1aabc",
   "metadata": {},
   "outputs": [],
   "source": [
    "df['Traffic Volume'] = df['Traffic Volume'].interpolate(method='linear')"
   ]
  },
  {
   "cell_type": "code",
   "execution_count": 7,
   "id": "ba60d178-0372-4556-bac4-90b0fc126fe9",
   "metadata": {},
   "outputs": [
    {
     "name": "stderr",
     "output_type": "stream",
     "text": [
      "C:\\Users\\Soham\\AppData\\Local\\Temp\\ipykernel_22844\\1055074250.py:1: FutureWarning: A value is trying to be set on a copy of a DataFrame or Series through chained assignment using an inplace method.\n",
      "The behavior will change in pandas 3.0. This inplace method will never work because the intermediate object on which we are setting values always behaves as a copy.\n",
      "\n",
      "For example, when doing 'df[col].method(value, inplace=True)', try using 'df.method({col: value}, inplace=True)' or df[col] = df[col].method(value) instead, to perform the operation inplace on the original object.\n",
      "\n",
      "\n",
      "  df['Weather Conditions'].fillna(df['Weather Conditions'].mode()[0], inplace=True)\n"
     ]
    }
   ],
   "source": [
    "df['Weather Conditions'].fillna(df['Weather Conditions'].mode()[0], inplace=True)"
   ]
  },
  {
   "cell_type": "code",
   "execution_count": 8,
   "id": "249ba538-3bd6-4810-8c97-609f5018ffbe",
   "metadata": {},
   "outputs": [
    {
     "name": "stderr",
     "output_type": "stream",
     "text": [
      "C:\\Users\\Soham\\AppData\\Local\\Temp\\ipykernel_22844\\2525100194.py:1: FutureWarning: A value is trying to be set on a copy of a DataFrame or Series through chained assignment using an inplace method.\n",
      "The behavior will change in pandas 3.0. This inplace method will never work because the intermediate object on which we are setting values always behaves as a copy.\n",
      "\n",
      "For example, when doing 'df[col].method(value, inplace=True)', try using 'df.method({col: value}, inplace=True)' or df[col] = df[col].method(value) instead, to perform the operation inplace on the original object.\n",
      "\n",
      "\n",
      "  df['Average Speed'].fillna(df['Average Speed'].mean(), inplace=True)\n"
     ]
    }
   ],
   "source": [
    "df['Average Speed'].fillna(df['Average Speed'].mean(), inplace=True)"
   ]
  },
  {
   "cell_type": "code",
   "execution_count": 9,
   "id": "3d8c6c4e-56db-4f93-a1e8-39d6714b37d2",
   "metadata": {},
   "outputs": [
    {
     "name": "stderr",
     "output_type": "stream",
     "text": [
      "C:\\Users\\Soham\\AppData\\Local\\Temp\\ipykernel_22844\\3572410786.py:1: FutureWarning: A value is trying to be set on a copy of a DataFrame or Series through chained assignment using an inplace method.\n",
      "The behavior will change in pandas 3.0. This inplace method will never work because the intermediate object on which we are setting values always behaves as a copy.\n",
      "\n",
      "For example, when doing 'df[col].method(value, inplace=True)', try using 'df.method({col: value}, inplace=True)' or df[col] = df[col].method(value) instead, to perform the operation inplace on the original object.\n",
      "\n",
      "\n",
      "  df['Date'].fillna(method='ffill', inplace=True)\n",
      "C:\\Users\\Soham\\AppData\\Local\\Temp\\ipykernel_22844\\3572410786.py:1: FutureWarning: Series.fillna with 'method' is deprecated and will raise in a future version. Use obj.ffill() or obj.bfill() instead.\n",
      "  df['Date'].fillna(method='ffill', inplace=True)\n"
     ]
    }
   ],
   "source": [
    "df['Date'].fillna(method='ffill', inplace=True)"
   ]
  },
  {
   "cell_type": "code",
   "execution_count": 10,
   "id": "4c6d08bb-9982-4b0d-9a76-4320de54d35d",
   "metadata": {},
   "outputs": [
    {
     "name": "stderr",
     "output_type": "stream",
     "text": [
      "C:\\Users\\Soham\\AppData\\Local\\Temp\\ipykernel_22844\\782937216.py:1: FutureWarning: A value is trying to be set on a copy of a DataFrame or Series through chained assignment using an inplace method.\n",
      "The behavior will change in pandas 3.0. This inplace method will never work because the intermediate object on which we are setting values always behaves as a copy.\n",
      "\n",
      "For example, when doing 'df[col].method(value, inplace=True)', try using 'df.method({col: value}, inplace=True)' or df[col] = df[col].method(value) instead, to perform the operation inplace on the original object.\n",
      "\n",
      "\n",
      "  df['Road/Intersection Name'].fillna(method='ffill', inplace=True)\n",
      "C:\\Users\\Soham\\AppData\\Local\\Temp\\ipykernel_22844\\782937216.py:1: FutureWarning: Series.fillna with 'method' is deprecated and will raise in a future version. Use obj.ffill() or obj.bfill() instead.\n",
      "  df['Road/Intersection Name'].fillna(method='ffill', inplace=True)\n"
     ]
    }
   ],
   "source": [
    "df['Road/Intersection Name'].fillna(method='ffill', inplace=True)"
   ]
  },
  {
   "cell_type": "code",
   "execution_count": 11,
   "id": "2da80f2f-7df6-4757-b4bf-0d7899ef4374",
   "metadata": {},
   "outputs": [],
   "source": [
    "df['Travel Time Index'] = df['Travel Time Index'].interpolate(method='linear')"
   ]
  },
  {
   "cell_type": "code",
   "execution_count": 12,
   "id": "db849f9a-11d5-4959-be83-fe5896969269",
   "metadata": {},
   "outputs": [],
   "source": [
    "df['Congestion Level'] = df['Congestion Level'].interpolate(method='linear')"
   ]
  },
  {
   "cell_type": "code",
   "execution_count": 13,
   "id": "de7825a0-cdcc-42dd-aa7f-131654f0e916",
   "metadata": {},
   "outputs": [],
   "source": [
    "df['Road Capacity Utilization'] = df['Road Capacity Utilization'].interpolate(method='linear')"
   ]
  },
  {
   "cell_type": "code",
   "execution_count": 14,
   "id": "40de0d91-9d28-45fa-9e82-99fd61f2f2ab",
   "metadata": {},
   "outputs": [
    {
     "name": "stderr",
     "output_type": "stream",
     "text": [
      "C:\\Users\\Soham\\AppData\\Local\\Temp\\ipykernel_22844\\3827230808.py:1: FutureWarning: A value is trying to be set on a copy of a DataFrame or Series through chained assignment using an inplace method.\n",
      "The behavior will change in pandas 3.0. This inplace method will never work because the intermediate object on which we are setting values always behaves as a copy.\n",
      "\n",
      "For example, when doing 'df[col].method(value, inplace=True)', try using 'df.method({col: value}, inplace=True)' or df[col] = df[col].method(value) instead, to perform the operation inplace on the original object.\n",
      "\n",
      "\n",
      "  df['Incident Reports'].fillna(df['Incident Reports'].mode()[0], inplace=True)\n"
     ]
    }
   ],
   "source": [
    "df['Incident Reports'].fillna(df['Incident Reports'].mode()[0], inplace=True)"
   ]
  },
  {
   "cell_type": "code",
   "execution_count": 15,
   "id": "e7e7c1fb-3b54-444e-b297-cdc65dab52cd",
   "metadata": {},
   "outputs": [],
   "source": [
    "df['Environmental Impact'] = df['Environmental Impact'].interpolate(method='linear')"
   ]
  },
  {
   "cell_type": "code",
   "execution_count": 16,
   "id": "6b87df76-6c4c-4439-b36f-1afca4c00162",
   "metadata": {},
   "outputs": [],
   "source": [
    "df['Public Transport Usage'] = df['Public Transport Usage'].fillna(df['Public Transport Usage'].rolling(7, min_periods=1).mean())"
   ]
  },
  {
   "cell_type": "code",
   "execution_count": 17,
   "id": "acfced1a-da64-45b1-8318-0a3efeb6b914",
   "metadata": {},
   "outputs": [],
   "source": [
    "df['Pedestrian and Cyclist Count'] = df['Pedestrian and Cyclist Count'].interpolate(method='linear')"
   ]
  },
  {
   "cell_type": "code",
   "execution_count": 18,
   "id": "231cd7be-f8a0-4e8d-b62c-509b8a77e7e1",
   "metadata": {},
   "outputs": [
    {
     "name": "stderr",
     "output_type": "stream",
     "text": [
      "C:\\Users\\Soham\\AppData\\Local\\Temp\\ipykernel_22844\\3203251860.py:1: FutureWarning: A value is trying to be set on a copy of a DataFrame or Series through chained assignment using an inplace method.\n",
      "The behavior will change in pandas 3.0. This inplace method will never work because the intermediate object on which we are setting values always behaves as a copy.\n",
      "\n",
      "For example, when doing 'df[col].method(value, inplace=True)', try using 'df.method({col: value}, inplace=True)' or df[col] = df[col].method(value) instead, to perform the operation inplace on the original object.\n",
      "\n",
      "\n",
      "  df['Roadwork and Construction Activity'].fillna(df['Roadwork and Construction Activity'].mode()[0], inplace=True)\n"
     ]
    }
   ],
   "source": [
    "df['Roadwork and Construction Activity'].fillna(df['Roadwork and Construction Activity'].mode()[0], inplace=True)"
   ]
  },
  {
   "cell_type": "code",
   "execution_count": 19,
   "id": "af241f06-21e7-4c85-9f37-110217dea966",
   "metadata": {},
   "outputs": [
    {
     "data": {
      "text/plain": [
       "Date                                  0\n",
       "Road/Intersection Name                1\n",
       "Traffic Volume                        0\n",
       "Average Speed                         0\n",
       "Travel Time Index                     1\n",
       "Congestion Level                      0\n",
       "Road Capacity Utilization             0\n",
       "Incident Reports                      0\n",
       "Environmental Impact                  0\n",
       "Public Transport Usage                0\n",
       "Pedestrian and Cyclist Count          0\n",
       "Weather Conditions                    0\n",
       "Roadwork and Construction Activity    0\n",
       "dtype: int64"
      ]
     },
     "execution_count": 19,
     "metadata": {},
     "output_type": "execute_result"
    }
   ],
   "source": [
    "df.isnull().sum()"
   ]
  },
  {
   "cell_type": "code",
   "execution_count": 20,
   "id": "3429c925-adff-4ee0-9eee-81671233d9f3",
   "metadata": {},
   "outputs": [],
   "source": [
    "df.dropna(inplace=True)"
   ]
  },
  {
   "cell_type": "code",
   "execution_count": 21,
   "id": "08734d7d-eb1b-4a58-bc90-e20bd3ee592f",
   "metadata": {},
   "outputs": [
    {
     "data": {
      "text/plain": [
       "Date                                  0\n",
       "Road/Intersection Name                0\n",
       "Traffic Volume                        0\n",
       "Average Speed                         0\n",
       "Travel Time Index                     0\n",
       "Congestion Level                      0\n",
       "Road Capacity Utilization             0\n",
       "Incident Reports                      0\n",
       "Environmental Impact                  0\n",
       "Public Transport Usage                0\n",
       "Pedestrian and Cyclist Count          0\n",
       "Weather Conditions                    0\n",
       "Roadwork and Construction Activity    0\n",
       "dtype: int64"
      ]
     },
     "execution_count": 21,
     "metadata": {},
     "output_type": "execute_result"
    }
   ],
   "source": [
    "df.isnull().sum()"
   ]
  },
  {
   "cell_type": "markdown",
   "id": "cabae243-c6ad-492e-b300-f608379d3097",
   "metadata": {},
   "source": [
    "## DATA Exploring"
   ]
  },
  {
   "cell_type": "code",
   "execution_count": 22,
   "id": "d4067081-ee3b-4b38-a5c4-7b58614d05e7",
   "metadata": {},
   "outputs": [
    {
     "data": {
      "text/html": [
       "<div>\n",
       "<style scoped>\n",
       "    .dataframe tbody tr th:only-of-type {\n",
       "        vertical-align: middle;\n",
       "    }\n",
       "\n",
       "    .dataframe tbody tr th {\n",
       "        vertical-align: top;\n",
       "    }\n",
       "\n",
       "    .dataframe thead th {\n",
       "        text-align: right;\n",
       "    }\n",
       "</style>\n",
       "<table border=\"1\" class=\"dataframe\">\n",
       "  <thead>\n",
       "    <tr style=\"text-align: right;\">\n",
       "      <th></th>\n",
       "      <th>Date</th>\n",
       "      <th>Road/Intersection Name</th>\n",
       "      <th>Traffic Volume</th>\n",
       "      <th>Average Speed</th>\n",
       "      <th>Travel Time Index</th>\n",
       "      <th>Congestion Level</th>\n",
       "      <th>Road Capacity Utilization</th>\n",
       "      <th>Incident Reports</th>\n",
       "      <th>Environmental Impact</th>\n",
       "      <th>Public Transport Usage</th>\n",
       "      <th>Pedestrian and Cyclist Count</th>\n",
       "      <th>Weather Conditions</th>\n",
       "      <th>Roadwork and Construction Activity</th>\n",
       "    </tr>\n",
       "  </thead>\n",
       "  <tbody>\n",
       "    <tr>\n",
       "      <th>1</th>\n",
       "      <td>01-01-2022</td>\n",
       "      <td>CST Road</td>\n",
       "      <td>0.775431</td>\n",
       "      <td>0.000000</td>\n",
       "      <td>0.536212</td>\n",
       "      <td>0.615160</td>\n",
       "      <td>0.035331</td>\n",
       "      <td>0.8</td>\n",
       "      <td>0.137807</td>\n",
       "      <td>0.394751</td>\n",
       "      <td>0.588608</td>\n",
       "      <td>Mild</td>\n",
       "      <td>1.0</td>\n",
       "    </tr>\n",
       "    <tr>\n",
       "      <th>2</th>\n",
       "      <td>01-01-2022</td>\n",
       "      <td>Road no. 01, TPS V</td>\n",
       "      <td>0.632111</td>\n",
       "      <td>0.000000</td>\n",
       "      <td>0.969972</td>\n",
       "      <td>0.673203</td>\n",
       "      <td>0.975692</td>\n",
       "      <td>0.4</td>\n",
       "      <td>0.478489</td>\n",
       "      <td>0.071569</td>\n",
       "      <td>0.468354</td>\n",
       "      <td>Mild</td>\n",
       "      <td>0.0</td>\n",
       "    </tr>\n",
       "    <tr>\n",
       "      <th>3</th>\n",
       "      <td>01-01-2022</td>\n",
       "      <td>Vakola Pipeline Road</td>\n",
       "      <td>0.456201</td>\n",
       "      <td>0.598162</td>\n",
       "      <td>0.796204</td>\n",
       "      <td>0.259642</td>\n",
       "      <td>0.345587</td>\n",
       "      <td>0.4</td>\n",
       "      <td>0.271353</td>\n",
       "      <td>0.316357</td>\n",
       "      <td>0.392405</td>\n",
       "      <td>Mild</td>\n",
       "      <td>0.0</td>\n",
       "    </tr>\n",
       "    <tr>\n",
       "      <th>4</th>\n",
       "      <td>01-01-2022</td>\n",
       "      <td>St Anthony Road</td>\n",
       "      <td>0.234796</td>\n",
       "      <td>0.000000</td>\n",
       "      <td>0.622437</td>\n",
       "      <td>0.377791</td>\n",
       "      <td>0.663442</td>\n",
       "      <td>0.8</td>\n",
       "      <td>0.470199</td>\n",
       "      <td>0.003909</td>\n",
       "      <td>0.215190</td>\n",
       "      <td>Mild</td>\n",
       "      <td>0.0</td>\n",
       "    </tr>\n",
       "    <tr>\n",
       "      <th>5</th>\n",
       "      <td>01-01-2022</td>\n",
       "      <td>Mahalaxmi Mandir Road</td>\n",
       "      <td>0.363325</td>\n",
       "      <td>0.298971</td>\n",
       "      <td>0.466867</td>\n",
       "      <td>0.495939</td>\n",
       "      <td>0.862246</td>\n",
       "      <td>0.6</td>\n",
       "      <td>0.245352</td>\n",
       "      <td>0.675474</td>\n",
       "      <td>0.810127</td>\n",
       "      <td>Mild</td>\n",
       "      <td>0.0</td>\n",
       "    </tr>\n",
       "  </tbody>\n",
       "</table>\n",
       "</div>"
      ],
      "text/plain": [
       "         Date Road/Intersection Name  Traffic Volume  Average Speed  \\\n",
       "1  01-01-2022              CST Road         0.775431       0.000000   \n",
       "2  01-01-2022     Road no. 01, TPS V        0.632111       0.000000   \n",
       "3  01-01-2022   Vakola Pipeline Road        0.456201       0.598162   \n",
       "4  01-01-2022        St Anthony Road        0.234796       0.000000   \n",
       "5  01-01-2022  Mahalaxmi Mandir Road        0.363325       0.298971   \n",
       "\n",
       "   Travel Time Index  Congestion Level  Road Capacity Utilization  \\\n",
       "1           0.536212          0.615160                   0.035331   \n",
       "2           0.969972          0.673203                   0.975692   \n",
       "3           0.796204          0.259642                   0.345587   \n",
       "4           0.622437          0.377791                   0.663442   \n",
       "5           0.466867          0.495939                   0.862246   \n",
       "\n",
       "   Incident Reports  Environmental Impact  Public Transport Usage  \\\n",
       "1               0.8              0.137807                0.394751   \n",
       "2               0.4              0.478489                0.071569   \n",
       "3               0.4              0.271353                0.316357   \n",
       "4               0.8              0.470199                0.003909   \n",
       "5               0.6              0.245352                0.675474   \n",
       "\n",
       "   Pedestrian and Cyclist Count Weather Conditions  \\\n",
       "1                      0.588608               Mild   \n",
       "2                      0.468354               Mild   \n",
       "3                      0.392405               Mild   \n",
       "4                      0.215190               Mild   \n",
       "5                      0.810127               Mild   \n",
       "\n",
       "   Roadwork and Construction Activity  \n",
       "1                                 1.0  \n",
       "2                                 0.0  \n",
       "3                                 0.0  \n",
       "4                                 0.0  \n",
       "5                                 0.0  "
      ]
     },
     "execution_count": 22,
     "metadata": {},
     "output_type": "execute_result"
    }
   ],
   "source": [
    "df.head()"
   ]
  },
  {
   "cell_type": "code",
   "execution_count": 23,
   "id": "9ca35f51-423d-48a5-8784-1a769ff25fc3",
   "metadata": {},
   "outputs": [
    {
     "name": "stdout",
     "output_type": "stream",
     "text": [
      "['Mild' 'Clear' 'Fog' 'Hot and Humid' 'Heatwave' 'Rainy' 'Thunderstorm']\n"
     ]
    }
   ],
   "source": [
    "print(df['Weather Conditions'].unique())"
   ]
  },
  {
   "cell_type": "code",
   "execution_count": 24,
   "id": "bacbe5ab-3907-4223-a081-785b7927986e",
   "metadata": {},
   "outputs": [
    {
     "name": "stdout",
     "output_type": "stream",
     "text": [
      "283\n",
      "['CST Road ' 'Road no. 01, TPS V' 'Vakola Pipeline Road' 'St Anthony Road'\n",
      " 'Mahalaxmi Mandir Road' 'Rajendra Kamble Road' \"Sant Mary's Road\"\n",
      " 'Chetana College Road' 'New English School Marg' 'Samaj Mandir Hall Marg'\n",
      " 'J L Shirshekar Marg' 'Road no. 07, TPS III' 'Road No. 06, TPS III'\n",
      " 'Road No. 04, TPS III' 'Road no. 11, TPS V' 'Ram Mandir Road'\n",
      " 'Khar Pipeline Road' 'Aaram Society Road'\n",
      " 'Side strips of Jawaharlal Nehru Road' 'Vijay Nagar Road'\n",
      " 'Parshiwadi Road' 'Manipada Road' 'Shardadevi Marg'\n",
      " 'Road no. 08, TPS III' 'Takshila Marg' 'Dnyaneshwar Mandir Marg'\n",
      " 'Abbasaheb Shinde Marg' 'Sunder Nagar Road no. 01'\n",
      " 'Sunder Nagar Road no. 02' 'Sunder Nagar Road no. 03'\n",
      " 'Ramanath Parkar Marg' 'Khernagar Road no. 01' 'Khernagar Road no. 02'\n",
      " 'Khernagar Road no. 03' 'Khernagar Road no. 04' 'Khernagar Road no. 06'\n",
      " 'Khernagar Road no. 07' 'Khernagar Road no. 08' 'Bhai Tambe Marg'\n",
      " 'V.M. Bhargav Road' 'Sidestrip of Juhu Road' 'SS of Kanubhai Desai Marg'\n",
      " '11th Road, Khar West ' 'Gurugangeshwar Road' '10th Road'\n",
      " 'Main Avenue Road' 'R K Mission Road' 'S B Patil Road , Khar (W)'\n",
      " '30th Road' '24th Road(St Theresa Road)' '3rd road (Y Shape)'\n",
      " 'Turner Road-R K Patkar Road Junction'\n",
      " 'Tiurner Road- Ambedkar Road Junction' '2nd Hasnabad Road'\n",
      " 'Dr Peter Dias Road' 'Slaughter House Road' '14th Road, Bandra (W)'\n",
      " '12th Road' 'Side Strip of Dr Ambedkar road'\n",
      " 'Side Strip of Manuel Gonsalves Road' 'Side Strip C D Road'\n",
      " '14th Road Khar' '27th Road' '28th Road' 'National Library Road'\n",
      " 'Jain Derasar Road' 'Pali Mala Road' '16th Road Khar West' '15th road'\n",
      " 'M G Road ' '7th road, Khar' 'Talmiki Road ' 'P M Road' 'Saibaba Marg'\n",
      " 'St. Andrews Road Extention ' 'Anthony Road' 'St. John Road Extention'\n",
      " ' SS Waterfield Road' 'Juhu Road Link Road Junction' '13th Road'\n",
      " 'Dattatray Road' 'Poddar Road' '5th Rd(Khar)' 'John Baptista Road'\n",
      " 'Jari Mari Road' 'V M Bhargav Cross road' '1st Road(IPS) '\n",
      " 'Dr Ambedkar Road ' 'West Avenue' 'Cyril Rd Exten' 'SS 33rd Road'\n",
      " 'St Martin road' 'SS  of RK Mission Road ' 'Centrel Avenue'\n",
      " 'SS Relief Road ' 'Tarun Bharat Road' 'Off Nehru Road' 'Dixit Road'\n",
      " 'Malviya Cross Road ' 'Sant Mukta Bai Road' 'Chimat Pada Road'\n",
      " 'Parleshwar Road' 'Prarthana Samaj Cross Road '\n",
      " 'Dayaldas Main Road ( Part 1)' 'Dayaldas Main Road ( Part 2)'\n",
      " 'Parshiwadi Cemetry Road' 'Lelewadi Road' 'Nicolaswadi  Rd Side strip'\n",
      " 'N S Phadke Marg ( Side Strip)' 'MIDC A Cross Road ' 'Midc Road No. 11'\n",
      " 'N P Thakkar Road' 'Veer Makrand Ghanekar Marg'\n",
      " 'Baji Prabhu Deshpande Marg' 'Sahakar Road' 'Jeevan Vikas Kendra Marg'\n",
      " 'G. B. Indulakar Marg' 'Nanda Patkar Marg' 'Rammandir  Road Vile Parle'\n",
      " 'Tilak Mandir Road Vile Parle' 'Sant janabai X Road' 'Kanoji Angre Marg'\n",
      " 'Sant Chokha Mela Marg' 'Charatsingh Colony ' 'off Military Road '\n",
      " 'Mongibai Road Vile Parle' 'MIDC Road no 7' 'Subhash cross Road'\n",
      " 'Sai Nagar Road' 'Ramabai Chemburkar Marg' 'Tilak Vidyalaya Road'\n",
      " 'Tejpal Scheme Road no 2' 'Tejpal Scheme Road no 3' 'Thanawala lane'\n",
      " 'Sahar Road Side Strip' 'Subhash Road Side Strip'\n",
      " 'Play Ground Road Vile Parle' 'Nariman cross Road' 'Wadarwada Road'\n",
      " 'M.G.Road side strip' 'Jiva Mahale Marg Side strip '\n",
      " 'Shahaji Raje Marg Side strip' 'Jogeshwari Gumpha road'\n",
      " 'Church Road (Main)' 'Rane Bunglow junction Road'\n",
      " 'Road from Mogaveera Bank to Moonlight Dairy' 'Manjrekar wadi Road'\n",
      " 'Subhash Nagar 13.40 m D.P.Road Jogeshwari'\n",
      " 'Road from Infant School to Apna Ghar Society' 'Mahakali Caves Road'\n",
      " 'Dattaram Waikar Marg' 'R K Singh Road' 'Natwar Nagar Road no 5'\n",
      " 'Natwar nagar Road no 1' 'Guru Govind Singh Road ( Roof Top Society)'\n",
      " 'New Nagardas Road ' 'Telly Gully Cross Road' 'Bima Nagar Road'\n",
      " 'Kondivita Road' 'MIDC Road no 16' 'MIDC Road no 14' 'Kadamwadi Road'\n",
      " 'Azad Road,Verma Nagar Road Gundavli' 'Amartaru Road'\n",
      " 'Mogra Service Road' 'Marol Maroshi Road'\n",
      " 'Sarvodaya nagar Road,Guru Govind singh Road ' 'Extension'\n",
      " 'A N Tiwari Road' 'Gaonthan Road Marol' 'Lok Rounak Road Marol'\n",
      " 'S.R. Mahadik Road' 'Pimpleshwar Mahadev Mandir Marg'\n",
      " 'Jogeshwari Gunfa Road Side strip' 'Shivneri Vasahat cross Road'\n",
      " 'Mulund BMC Garden Lane ' 'Duncan Company ' 'Mulund Goregaon Link Road'\n",
      " 'Shreyas Signal ' 'Anil Kumble Circle' 'AmarMahal Chembur '\n",
      " 'Tagore Nagar Udyaan Vikroli ' 'Tagore Nagar Post office'\n",
      " 'G R jolly marg ' 'Ankur Hospital ' '100 Feet Road' 'Crompton Greaves'\n",
      " 'Bhandup Station East ' 'Nahur Railway Station East' 'Hema Park'\n",
      " ' Goregaon Link Road' 'Merind Company ' 'Hebbal Flyover'\n",
      " 'Fortis Hospital ' 'Dr K B Hedgewar Chowk ' 'Nirmal Life style '\n",
      " 'Ralli wolf ' 'Johnson and Johnson Company ' 'ESIS Hospital '\n",
      " 'Govardhan Nagar' 'Maharana Pratap chowk ' 'Kisan Nagar junction '\n",
      " 'Wagle Circle ' 'Dnyan Sarita Thane' 'Marathahalli Bridge' 'pipe line '\n",
      " 'Post and Telegraphs ' 'Vidyaben Gardi School Keshavpada'\n",
      " 'Kalidas natyagruh' 'Maharishi Arvind Chowk '\n",
      " 'Agarwal Municipal hospital ' 'Veena Nagar ' 'Guru Nanak Nagar '\n",
      " 'Chirag nagar ' 'Laxmi Nagar ' 'Pantnagar '\n",
      " 'Jija mata bhosle marg junction ' 'RTO office' 'Sarvodaya Hospital '\n",
      " 'Gopal Bhavan ' 'Nityanand Nagar ' 'Amar Mahal ' 'Glass Factory '\n",
      " 'Somaiya College ' 'Sindhuwadi ' 'Rajawadi Hospital ' 'Gandhi market '\n",
      " 'Old Agra Road ' 'Sheetal Cinema ' 'State Bank kamani ' 'PWD office'\n",
      " 'Narayan Nagar ' 'Bhatiawadi Road' 'Phoenix Market city ' 'Jarimari '\n",
      " 'Chandivali ' 'Saikana Bus Station' 'Andheri-Ghatkopar link rd'\n",
      " 'bhatwadi ' 'Maneklal Estate ' 'KajuPada' '90 feet road' 'Shivaji Nagar'\n",
      " 'KajuPada pipeline road' 'Agastya Corporate Park '\n",
      " 'Piramal Reality Estate ' 'Zynova Shalby Hospital ' 'Jagdusha Nagar '\n",
      " 'Hingwala Lane ' 'Lavender Baug ' 'Garodia Ngar ' 'Tilak Nagar'\n",
      " 'Ambedkar Garden ' 'Eastern Express Freeway ' 'Express Highway '\n",
      " 'Postal Colony ' 'SG Barve Road Junction ' 'Thakkar Bappa Colony '\n",
      " 'Kamgar Nagr ' 'Nehru Nagr ' 'Kalina Kurla Road' 'Military Camp Road'\n",
      " 'Chhatrapati Shivaji Maharaj Road Extn.' '14th B Road, Khar(W)'\n",
      " 'SS of K C Marg' 'St Peter Road' 'New Kantwadi Road'\n",
      " '17th Road (Santacruz)' 'East Avenue' 'MIDC B X Road'\n",
      " 'Old Nagardas Rd Side strip' 'Sadbhakiti road '\n",
      " 'MIDC road no 23 (Ext. C x Road)' 'Trinity Circle' 'Wagle Ward Committee'\n",
      " 'Keva Fragnans ' 'Gyan Sarita School ' 'Kadam Pada' 'Mukund company '\n",
      " 'Pestam Sagar ' 'Azad Nagar ' 'Road No 5, Rizvi complex'\n",
      " 'Mulund Railway Station West ']\n"
     ]
    }
   ],
   "source": [
    "print(df['Road/Intersection Name'].nunique())\n",
    "print(df['Road/Intersection Name'].unique()) "
   ]
  },
  {
   "cell_type": "code",
   "execution_count": 25,
   "id": "a9fcb939-6d2c-4e8c-8fff-c6203da04f92",
   "metadata": {},
   "outputs": [
    {
     "data": {
      "image/png": "[encoded data removed]",
      "text/plain": [
       "<Figure size 1600x1200 with 9 Axes>"
      ]
     },
     "metadata": {},
     "output_type": "display_data"
    }
   ],
   "source": [
    "import matplotlib.pyplot as plt\n",
    "import seaborn as sns\n",
    "numerical_columns = [\"Traffic Volume\", \"Average Speed\", \"Travel Time Index\", \"Congestion Level\",\n",
    "                     \"Road Capacity Utilization\", \"Incident Reports\", \"Environmental Impact\", \n",
    "                     \"Public Transport Usage\",  \n",
    "                     \"Pedestrian and Cyclist Count\"]\n",
    "\n",
    "plt.figure(figsize=(16, 12))\n",
    "for i, col in enumerate(numerical_columns, 1):\n",
    "    plt.subplot(4, 3, i)\n",
    "    sns.histplot(df[col], kde=True)\n",
    "    plt.title(f'Distribution of {col}')\n",
    "plt.tight_layout()\n",
    "plt.show()"
   ]
  },
  {
   "cell_type": "markdown",
   "id": "1a566c92-1d45-46fe-9e87-7c98659f9281",
   "metadata": {},
   "source": [
    "## Feature Engineering"
   ]
  },
  {
   "cell_type": "code",
   "execution_count": 26,
   "id": "d3b9fbac-e503-4979-878f-d4e09b8a38e4",
   "metadata": {},
   "outputs": [],
   "source": [
    "df['Date'] = pd.to_datetime(df['Date'], format='%d-%m-%Y')"
   ]
  },
  {
   "cell_type": "markdown",
   "id": "62423f0c-753c-4e42-829b-73c2019d3e61",
   "metadata": {},
   "source": [
    "### Encode categorical variables"
   ]
  },
  {
   "cell_type": "code",
   "execution_count": 27,
   "id": "d1caa709-5592-4378-88b2-777eeeea1c57",
   "metadata": {},
   "outputs": [],
   "source": [
    "le_road = LabelEncoder()\n",
    "le_weather = LabelEncoder()\n",
    "df['Road_Encoded'] = le_road.fit_transform(df['Road/Intersection Name'])\n",
    "df['Weather_Encoded'] = le_weather.fit_transform(df['Weather Conditions'])"
   ]
  },
  {
   "cell_type": "code",
   "execution_count": 28,
   "id": "77b80016-b053-4c2f-b0b7-60929d4064bc",
   "metadata": {},
   "outputs": [],
   "source": [
    "df['Month'] = df['Date'].dt.month\n",
    "df['DayOfWeek'] = df['Date'].dt.dayofweek\n",
    "df['IsWeekend'] = df['DayOfWeek'].isin([5, 6]).astype(int)"
   ]
  },
  {
   "cell_type": "code",
   "execution_count": 29,
   "id": "d45757bb-5c39-46f1-aca4-c80a9edd8b83",
   "metadata": {},
   "outputs": [
    {
     "name": "stdout",
     "output_type": "stream",
     "text": [
      "Transformed data head:\n"
     ]
    },
    {
     "data": {
      "text/html": [
       "<div>\n",
       "<style scoped>\n",
       "    .dataframe tbody tr th:only-of-type {\n",
       "        vertical-align: middle;\n",
       "    }\n",
       "\n",
       "    .dataframe tbody tr th {\n",
       "        vertical-align: top;\n",
       "    }\n",
       "\n",
       "    .dataframe thead th {\n",
       "        text-align: right;\n",
       "    }\n",
       "</style>\n",
       "<table border=\"1\" class=\"dataframe\">\n",
       "  <thead>\n",
       "    <tr style=\"text-align: right;\">\n",
       "      <th></th>\n",
       "      <th>Date</th>\n",
       "      <th>Road/Intersection Name</th>\n",
       "      <th>Traffic Volume</th>\n",
       "      <th>Average Speed</th>\n",
       "      <th>Travel Time Index</th>\n",
       "      <th>Congestion Level</th>\n",
       "      <th>Road Capacity Utilization</th>\n",
       "      <th>Incident Reports</th>\n",
       "      <th>Environmental Impact</th>\n",
       "      <th>Public Transport Usage</th>\n",
       "      <th>Pedestrian and Cyclist Count</th>\n",
       "      <th>Weather Conditions</th>\n",
       "      <th>Roadwork and Construction Activity</th>\n",
       "      <th>Road_Encoded</th>\n",
       "      <th>Weather_Encoded</th>\n",
       "      <th>Month</th>\n",
       "      <th>DayOfWeek</th>\n",
       "      <th>IsWeekend</th>\n",
       "    </tr>\n",
       "  </thead>\n",
       "  <tbody>\n",
       "    <tr>\n",
       "      <th>1</th>\n",
       "      <td>2022-01-01</td>\n",
       "      <td>CST Road</td>\n",
       "      <td>0.775431</td>\n",
       "      <td>0.000000</td>\n",
       "      <td>0.536212</td>\n",
       "      <td>0.615160</td>\n",
       "      <td>0.035331</td>\n",
       "      <td>0.8</td>\n",
       "      <td>0.137807</td>\n",
       "      <td>0.394751</td>\n",
       "      <td>0.588608</td>\n",
       "      <td>Mild</td>\n",
       "      <td>1.0</td>\n",
       "      <td>43</td>\n",
       "      <td>4</td>\n",
       "      <td>1</td>\n",
       "      <td>5</td>\n",
       "      <td>1</td>\n",
       "    </tr>\n",
       "    <tr>\n",
       "      <th>2</th>\n",
       "      <td>2022-01-01</td>\n",
       "      <td>Road no. 01, TPS V</td>\n",
       "      <td>0.632111</td>\n",
       "      <td>0.000000</td>\n",
       "      <td>0.969972</td>\n",
       "      <td>0.673203</td>\n",
       "      <td>0.975692</td>\n",
       "      <td>0.4</td>\n",
       "      <td>0.478489</td>\n",
       "      <td>0.071569</td>\n",
       "      <td>0.468354</td>\n",
       "      <td>Mild</td>\n",
       "      <td>0.0</td>\n",
       "      <td>201</td>\n",
       "      <td>4</td>\n",
       "      <td>1</td>\n",
       "      <td>5</td>\n",
       "      <td>1</td>\n",
       "    </tr>\n",
       "    <tr>\n",
       "      <th>3</th>\n",
       "      <td>2022-01-01</td>\n",
       "      <td>Vakola Pipeline Road</td>\n",
       "      <td>0.456201</td>\n",
       "      <td>0.598162</td>\n",
       "      <td>0.796204</td>\n",
       "      <td>0.259642</td>\n",
       "      <td>0.345587</td>\n",
       "      <td>0.4</td>\n",
       "      <td>0.271353</td>\n",
       "      <td>0.316357</td>\n",
       "      <td>0.392405</td>\n",
       "      <td>Mild</td>\n",
       "      <td>0.0</td>\n",
       "      <td>270</td>\n",
       "      <td>4</td>\n",
       "      <td>1</td>\n",
       "      <td>5</td>\n",
       "      <td>1</td>\n",
       "    </tr>\n",
       "    <tr>\n",
       "      <th>4</th>\n",
       "      <td>2022-01-01</td>\n",
       "      <td>St Anthony Road</td>\n",
       "      <td>0.234796</td>\n",
       "      <td>0.000000</td>\n",
       "      <td>0.622437</td>\n",
       "      <td>0.377791</td>\n",
       "      <td>0.663442</td>\n",
       "      <td>0.8</td>\n",
       "      <td>0.470199</td>\n",
       "      <td>0.003909</td>\n",
       "      <td>0.215190</td>\n",
       "      <td>Mild</td>\n",
       "      <td>0.0</td>\n",
       "      <td>240</td>\n",
       "      <td>4</td>\n",
       "      <td>1</td>\n",
       "      <td>5</td>\n",
       "      <td>1</td>\n",
       "    </tr>\n",
       "    <tr>\n",
       "      <th>5</th>\n",
       "      <td>2022-01-01</td>\n",
       "      <td>Mahalaxmi Mandir Road</td>\n",
       "      <td>0.363325</td>\n",
       "      <td>0.298971</td>\n",
       "      <td>0.466867</td>\n",
       "      <td>0.495939</td>\n",
       "      <td>0.862246</td>\n",
       "      <td>0.6</td>\n",
       "      <td>0.245352</td>\n",
       "      <td>0.675474</td>\n",
       "      <td>0.810127</td>\n",
       "      <td>Mild</td>\n",
       "      <td>0.0</td>\n",
       "      <td>131</td>\n",
       "      <td>4</td>\n",
       "      <td>1</td>\n",
       "      <td>5</td>\n",
       "      <td>1</td>\n",
       "    </tr>\n",
       "  </tbody>\n",
       "</table>\n",
       "</div>"
      ],
      "text/plain": [
       "        Date Road/Intersection Name  Traffic Volume  Average Speed  \\\n",
       "1 2022-01-01              CST Road         0.775431       0.000000   \n",
       "2 2022-01-01     Road no. 01, TPS V        0.632111       0.000000   \n",
       "3 2022-01-01   Vakola Pipeline Road        0.456201       0.598162   \n",
       "4 2022-01-01        St Anthony Road        0.234796       0.000000   \n",
       "5 2022-01-01  Mahalaxmi Mandir Road        0.363325       0.298971   \n",
       "\n",
       "   Travel Time Index  Congestion Level  Road Capacity Utilization  \\\n",
       "1           0.536212          0.615160                   0.035331   \n",
       "2           0.969972          0.673203                   0.975692   \n",
       "3           0.796204          0.259642                   0.345587   \n",
       "4           0.622437          0.377791                   0.663442   \n",
       "5           0.466867          0.495939                   0.862246   \n",
       "\n",
       "   Incident Reports  Environmental Impact  Public Transport Usage  \\\n",
       "1               0.8              0.137807                0.394751   \n",
       "2               0.4              0.478489                0.071569   \n",
       "3               0.4              0.271353                0.316357   \n",
       "4               0.8              0.470199                0.003909   \n",
       "5               0.6              0.245352                0.675474   \n",
       "\n",
       "   Pedestrian and Cyclist Count Weather Conditions  \\\n",
       "1                      0.588608               Mild   \n",
       "2                      0.468354               Mild   \n",
       "3                      0.392405               Mild   \n",
       "4                      0.215190               Mild   \n",
       "5                      0.810127               Mild   \n",
       "\n",
       "   Roadwork and Construction Activity  Road_Encoded  Weather_Encoded  Month  \\\n",
       "1                                 1.0            43                4      1   \n",
       "2                                 0.0           201                4      1   \n",
       "3                                 0.0           270                4      1   \n",
       "4                                 0.0           240                4      1   \n",
       "5                                 0.0           131                4      1   \n",
       "\n",
       "   DayOfWeek  IsWeekend  \n",
       "1          5          1  \n",
       "2          5          1  \n",
       "3          5          1  \n",
       "4          5          1  \n",
       "5          5          1  "
      ]
     },
     "metadata": {},
     "output_type": "display_data"
    }
   ],
   "source": [
    "print(\"Transformed data head:\")\n",
    "display(df.head())"
   ]
  },
  {
   "cell_type": "code",
   "execution_count": 30,
   "id": "5f6e5a78-7be7-4c12-931d-4f1921d1b15a",
   "metadata": {},
   "outputs": [],
   "source": [
    "df.to_csv('Data/Cleaned_Data.csv', index=False)"
   ]
  },
  {
   "cell_type": "markdown",
   "id": "26c7b0f4-623b-4b4a-a216-a1319a2e3840",
   "metadata": {},
   "source": [
    "### Create Train-Test Split"
   ]
  },
  {
   "cell_type": "code",
   "execution_count": 31,
   "id": "accc2f65-c6c4-48f6-87f9-a9f775ed7102",
   "metadata": {},
   "outputs": [],
   "source": [
    "features = [\n",
    "    'Road_Encoded', 'Month', 'DayOfWeek', 'IsWeekend',\n",
    "    'Average Speed', 'Travel Time Index', 'Congestion Level',\n",
    "    'Road Capacity Utilization', 'Incident Reports',\n",
    "    'Environmental Impact', 'Public Transport Usage',\n",
    "    'Pedestrian and Cyclist Count', 'Weather_Encoded',\n",
    "    'Roadwork and Construction Activity'\n",
    "]"
   ]
  },
  {
   "cell_type": "code",
   "execution_count": 32,
   "id": "2df39d46-ed71-4474-90a2-d60070877958",
   "metadata": {},
   "outputs": [],
   "source": [
    "X = df[features]\n",
    "y = df['Traffic Volume']"
   ]
  },
  {
   "cell_type": "code",
   "execution_count": 33,
   "id": "5912515b-764f-427a-9d46-fc0b9398ef49",
   "metadata": {},
   "outputs": [],
   "source": [
    "train_size = int(len(df) * 0.8)\n",
    "X_train = X[:train_size]\n",
    "X_test = X[train_size:]\n",
    "y_train = y[:train_size]\n",
    "y_test = y[train_size:]"
   ]
  },
  {
   "cell_type": "markdown",
   "id": "320bc0b9-97f4-45b8-82d5-0fa56caa9468",
   "metadata": {},
   "source": [
    "## LSTM"
   ]
  },
  {
   "cell_type": "code",
   "execution_count": 34,
   "id": "74ce5b63-8141-449e-aa40-7bd85b24b923",
   "metadata": {},
   "outputs": [],
   "source": [
    "def create_sequences(X, y, time_steps=30):\n",
    "    Xs, ys = [], []\n",
    "    for i in range(len(X) - time_steps):\n",
    "        Xs.append(X.iloc[i:(i + time_steps)].values)\n",
    "        ys.append(y.iloc[i + time_steps])\n",
    "    return np.array(Xs), np.array(ys)"
   ]
  },
  {
   "cell_type": "code",
   "execution_count": 35,
   "id": "8694db17-6e95-4bf7-9183-2e40ec52d0aa",
   "metadata": {},
   "outputs": [],
   "source": [
    "X_train_seq, y_train_seq = create_sequences(X_train, y_train)\n",
    "X_test_seq, y_test_seq = create_sequences(X_test, y_test)\n"
   ]
  },
  {
   "cell_type": "code",
   "execution_count": 36,
   "id": "7acfdc2b-31be-46de-bdcf-fe3fc0a2520e",
   "metadata": {},
   "outputs": [
    {
     "name": "stdout",
     "output_type": "stream",
     "text": [
      "LSTM sequence shapes:\n",
      "X_train_seq shape: (84649, 30, 14)\n",
      "y_train_seq shape: (84649,)\n",
      "X_test_seq shape: (21140, 30, 14)\n",
      "y_test_seq shape: (21140,)\n"
     ]
    }
   ],
   "source": [
    "print(\"LSTM sequence shapes:\")\n",
    "print(\"X_train_seq shape:\", X_train_seq.shape)\n",
    "print(\"y_train_seq shape:\", y_train_seq.shape)\n",
    "print(\"X_test_seq shape:\", X_test_seq.shape)\n",
    "print(\"y_test_seq shape:\", y_test_seq.shape)"
   ]
  },
  {
   "cell_type": "markdown",
   "id": "0e75cf4c-fcf0-4000-ac67-cb8bec5e9a25",
   "metadata": {},
   "source": [
    "## XGBoost"
   ]
  },
  {
   "cell_type": "code",
   "execution_count": 37,
   "id": "b78ab0dd-49a0-43c1-a4b3-1cd76b828924",
   "metadata": {},
   "outputs": [
    {
     "name": "stdout",
     "output_type": "stream",
     "text": [
      "\n",
      "XGBoost data shapes:\n",
      "X_train shape: (84679, 14)\n",
      "X_test shape: (21170, 14)\n"
     ]
    }
   ],
   "source": [
    "print(\"\\nXGBoost data shapes:\")\n",
    "print(\"X_train shape:\", X_train.shape)\n",
    "print(\"X_test shape:\", X_test.shape)"
   ]
  },
  {
   "cell_type": "code",
   "execution_count": 38,
   "id": "57359c88-f495-4b84-b884-d55c24ab65f8",
   "metadata": {},
   "outputs": [],
   "source": [
    "from tensorflow.keras.models import Sequential\n",
    "from tensorflow.keras.layers import LSTM, Dense, Dropout"
   ]
  },
  {
   "cell_type": "markdown",
   "id": "6d5fb78c-994b-4c16-bcf4-73e5e766e6ee",
   "metadata": {},
   "source": [
    "### Build LSTM model"
   ]
  },
  {
   "cell_type": "code",
   "execution_count": 39,
   "id": "0e28e4fc-3622-427b-8fa4-97aeca15ecfd",
   "metadata": {},
   "outputs": [
    {
     "name": "stderr",
     "output_type": "stream",
     "text": [
      "C:\\Users\\Soham\\AppData\\Local\\Programs\\Python\\Python311\\Lib\\site-packages\\keras\\src\\layers\\rnn\\rnn.py:204: UserWarning: Do not pass an `input_shape`/`input_dim` argument to a layer. When using Sequential models, prefer using an `Input(shape)` object as the first layer in the model instead.\n",
      "  super().__init__(**kwargs)\n"
     ]
    }
   ],
   "source": [
    "lstm_model = Sequential([\n",
    "    LSTM(64, activation='relu', input_shape=(30, 14), return_sequences=True),\n",
    "    LSTM(32, activation='relu'),\n",
    "    Dense(16, activation='relu'),\n",
    "    Dense(1)\n",
    "])"
   ]
  },
  {
   "cell_type": "code",
   "execution_count": 40,
   "id": "f7ea42c2-696b-461e-8e33-42e68bb932b5",
   "metadata": {},
   "outputs": [],
   "source": [
    "lstm_model.compile(optimizer='adam', loss='mse')"
   ]
  },
  {
   "cell_type": "code",
   "execution_count": null,
   "id": "b6e27ef5-1c28-4e32-94f9-9d84aa16cd8e",
   "metadata": {},
   "outputs": [
    {
     "name": "stdout",
     "output_type": "stream",
     "text": [
      "Epoch 1/10\n",
      "\u001b[1m2117/2117\u001b[0m \u001b[32m━━━━━━━━━━━━━━━━━━━━\u001b[0m\u001b[37m\u001b[0m \u001b[1m101s\u001b[0m 43ms/step - loss: 43.9967 - val_loss: 0.1522\n",
      "Epoch 2/10\n",
      "\u001b[1m2117/2117\u001b[0m \u001b[32m━━━━━━━━━━━━━━━━━━━━\u001b[0m\u001b[37m\u001b[0m \u001b[1m95s\u001b[0m 45ms/step - loss: 0.1155 - val_loss: 0.0941\n",
      "Epoch 3/10\n",
      "\u001b[1m2117/2117\u001b[0m \u001b[32m━━━━━━━━━━━━━━━━━━━━\u001b[0m\u001b[37m\u001b[0m \u001b[1m94s\u001b[0m 44ms/step - loss: 0.0822 - val_loss: 0.0448\n",
      "Epoch 4/10\n",
      "\u001b[1m2117/2117\u001b[0m \u001b[32m━━━━━━━━━━━━━━━━━━━━\u001b[0m\u001b[37m\u001b[0m \u001b[1m96s\u001b[0m 45ms/step - loss: 0.0574 - val_loss: 0.0379\n",
      "Epoch 5/10\n",
      "\u001b[1m2117/2117\u001b[0m \u001b[32m━━━━━━━━━━━━━━━━━━━━\u001b[0m\u001b[37m\u001b[0m \u001b[1m97s\u001b[0m 46ms/step - loss: 0.0379 - val_loss: 0.0374\n",
      "Epoch 6/10\n",
      "\u001b[1m2117/2117\u001b[0m \u001b[32m━━━━━━━━━━━━━━━━━━━━\u001b[0m\u001b[37m\u001b[0m \u001b[1m100s\u001b[0m 47ms/step - loss: 0.0380 - val_loss: 0.0375\n",
      "Epoch 7/10\n",
      "\u001b[1m2117/2117\u001b[0m \u001b[32m━━━━━━━━━━━━━━━━━━━━\u001b[0m\u001b[37m\u001b[0m \u001b[1m93s\u001b[0m 44ms/step - loss: 0.0375 - val_loss: 0.0369\n",
      "Epoch 8/10\n",
      "\u001b[1m2117/2117\u001b[0m \u001b[32m━━━━━━━━━━━━━━━━━━━━\u001b[0m\u001b[37m\u001b[0m \u001b[1m130s\u001b[0m 61ms/step - loss: 0.0442 - val_loss: 0.0369\n",
      "Epoch 9/10\n",
      "\u001b[1m 791/2117\u001b[0m \u001b[32m━━━━━━━\u001b[0m\u001b[37m━━━━━━━━━━━━━\u001b[0m \u001b[1m54s\u001b[0m 41ms/step - loss: 0.0367"
     ]
    }
   ],
   "source": [
    "history = lstm_model.fit(\n",
    "    X_train_seq, y_train_seq,\n",
    "    epochs=10,\n",
    "    batch_size=32,\n",
    "    validation_split=0.2,\n",
    "    verbose=1\n",
    ")"
   ]
  },
  {
   "cell_type": "code",
   "execution_count": null,
   "id": "f748f840-74df-420f-aca9-075f5e331846",
   "metadata": {},
   "outputs": [],
   "source": [
    "xgb_model = XGBRegressor(n_estimators=100, learning_rate=0.1, random_state=42)"
   ]
  },
  {
   "cell_type": "code",
   "execution_count": null,
   "id": "e5ef8438-4a8e-4edf-b3a1-075e959de60f",
   "metadata": {},
   "outputs": [],
   "source": [
    "xgb_model.fit(X_train, y_train)"
   ]
  },
  {
   "cell_type": "code",
   "execution_count": null,
   "id": "0a8af001-e4f0-4d64-9adb-a847ce9ff897",
   "metadata": {},
   "outputs": [],
   "source": [
    "def hybrid_predict(lstm_model, xgb_model, X_seq, X):\n",
    "    lstm_pred = lstm_model.predict(X_seq).flatten()\n",
    "    xgb_pred = xgb_model.predict(X)\n",
    "    return (lstm_pred + xgb_pred) / 2"
   ]
  },
  {
   "cell_type": "code",
   "execution_count": null,
   "id": "a65b9c02-d182-4a35-a5d7-f1cc93c50300",
   "metadata": {},
   "outputs": [],
   "source": [
    "from sklearn.metrics import mean_squared_error, r2_score\n",
    "\n",
    "y_pred = hybrid_predict(lstm_model, xgb_model, X_test_seq, X_test[-len(X_test_seq):])\n",
    "mse = mean_squared_error(y_test_seq, y_pred)\n",
    "r2 = r2_score(y_test_seq, y_pred)\n",
    "\n",
    "print(f\"Mean Squared Error: {mse}\")\n",
    "print(f\"R-squared Score: {r2}\")"
   ]
  },
  {
   "cell_type": "code",
   "execution_count": null,
   "id": "46e2663c-7c0c-40b6-b478-76d3d62dc355",
   "metadata": {},
   "outputs": [],
   "source": [
    "def predict_traffic(road_name, future_date):\n",
    "    road_encoded = le_road.transform([road_name])[0]\n",
    "    date = pd.to_datetime(future_date)\n",
    "    \n",
    "\n",
    "    features = [road_encoded, date.month, date.dayofweek, date.dayofweek in [5, 6]]\n",
    "\n",
    "    features.extend([0] * 10)\n",
    "    \n",
    "    X_seq = np.array([features] * 30).reshape(1, 30, 14)\n",
    "    X = np.array(features).reshape(1, -1)\n",
    "    \n",
    "    prediction = hybrid_predict(lstm_model, xgb_model, X_seq, X)\n",
    "    return prediction[0]"
   ]
  },
  {
   "cell_type": "code",
   "execution_count": null,
   "id": "46fe7154-a8af-46db-b527-85bee66fb6fd",
   "metadata": {},
   "outputs": [],
   "source": [
    "import matplotlib.pyplot as plt\n",
    "\n",
    "feature_importance = xgb_model.feature_importances_\n",
    "feature_names = X.columns\n",
    "sorted_idx = np.argsort(feature_importance)\n",
    "sorted_features = feature_names[sorted_idx]\n",
    "\n",
    "plt.figure(figsize=(10, 8))\n",
    "plt.barh(range(len(feature_importance)), feature_importance[sorted_idx])\n",
    "plt.yticks(range(len(feature_importance)), sorted_features)\n",
    "plt.xlabel('Importance')\n",
    "plt.title('Feature Importance')\n",
    "plt.show()\n",
    "\n",
    "for feature, importance in zip(sorted_features, feature_importance[sorted_idx]):\n",
    "    print(f\"{feature}: {importance}\")"
   ]
  },
  {
   "cell_type": "code",
   "execution_count": null,
   "id": "52907af7-7f03-4842-b029-3adaccddcef6",
   "metadata": {},
   "outputs": [],
   "source": [
    "# Save LSTM model\n",
    "lstm_model.save('lstm_traffic_model.h5')\n",
    "# Save XGBoost model\n",
    "import joblib\n",
    "joblib.dump(xgb_model, 'xgb_traffic_model.joblib')\n",
    "\n",
    "# Save the LabelEncoders\n",
    "joblib.dump(le_road, 'le_road.joblib')\n",
    "joblib.dump(le_weather, 'le_weather.joblib')"
   ]
  },
  {
   "cell_type": "code",
   "execution_count": null,
   "id": "d0510b99-17cc-4b87-963b-2a6bdf8bea84",
   "metadata": {},
   "outputs": [],
   "source": [
    "def predict_traffic_xgb(road_name, future_date, weather_condition='normal'):\n",
    "    # Load the model and label encoders\n",
    "    xgb_model = joblib.load('xgb_traffic_model.joblib')\n",
    "    le_road = joblib.load('le_road.joblib')\n",
    "    le_weather = joblib.load('le_weather.joblib')\n",
    "    \n",
    "    # Convert inputs to model features\n",
    "    # Handle unseen road names\n",
    "    if road_name in le_road.classes_:\n",
    "        road_encoded = le_road.transform([road_name])[0]\n",
    "    else:\n",
    "        print(f\"Warning: '{road_name}' is an unseen road name. Using -1 as a placeholder.\")\n",
    "        road_encoded = -1\n",
    "    \n",
    "    date = pd.to_datetime(future_date)\n",
    "    \n",
    "    # Handle unseen weather conditions\n",
    "    if weather_condition in le_weather.classes_:\n",
    "        weather_encoded = le_weather.transform([weather_condition])[0]\n",
    "    else:\n",
    "        print(f\"Warning: '{weather_condition}' is an unseen weather condition. Using the most frequent condition.\")\n",
    "        weather_encoded = le_weather.transform([le_weather.classes_[0]])[0]\n",
    "    \n",
    "    # Create feature vector (adjust this based on your actual features)\n",
    "    features = [\n",
    "        road_encoded, \n",
    "        date.month, \n",
    "        date.dayofweek, \n",
    "        int(date.dayofweek in [5, 6]),  # IsWeekend\n",
    "        0, 0, 0, 0, 0, 0, 0, 0,  # Placeholder values for other features\n",
    "        weather_encoded,\n",
    "        0  # Placeholder for 'Roadwork and Construction Activity'\n",
    "    ]\n",
    "    \n",
    "    # Make prediction\n",
    "    X = np.array(features).reshape(1, -1)\n",
    "    prediction = xgb_model.predict(X)\n",
    "    \n",
    "    return prediction[0]"
   ]
  },
  {
   "cell_type": "code",
   "execution_count": null,
   "id": "c0fcd044-e274-4678-b9ab-744207a753ae",
   "metadata": {},
   "outputs": [],
   "source": [
    "# Example usage\n",
    "try:\n",
    "    predicted_traffic = predict_traffic_xgb(\"Mahalaxmi Mandir Road\", \"2024-02-21\", \"Clear\")\n",
    "    print(f\"Predicted traffic volume: {predicted_traffic}\")\n",
    "except Exception as e:\n",
    "    print(f\"Error making prediction: {e}\")"
   ]
  },
  {
   "cell_type": "code",
   "execution_count": null,
   "id": "6d79b1ea-c6b2-4a4f-80f9-bb9a7f555d10",
   "metadata": {},
   "outputs": [],
   "source": [
    "df['Weather Conditions'].unique()"
   ]
  },
  {
   "cell_type": "code",
   "execution_count": null,
   "id": "b534fe23-b5fa-40db-ab1b-a0099d1181b6",
   "metadata": {},
   "outputs": [],
   "source": []
  }
 ],
 "metadata": {
  "kernelspec": {
   "display_name": "Python 3 (ipykernel)",
   "language": "python",
   "name": "python3"
  },
  "language_info": {
   "codemirror_mode": {
    "name": "ipython",
    "version": 3
   },
   "file_extension": ".py",
   "mimetype": "text/x-python",
   "name": "python",
   "nbconvert_exporter": "python",
   "pygments_lexer": "ipython3",
   "version": "3.11.0"
  }
 },
 "nbformat": 4,
 "nbformat_minor": 5
}
